{
 "cells": [
  {
   "cell_type": "code",
   "execution_count": 11,
   "metadata": {},
   "outputs": [
    {
     "name": "stdout",
     "output_type": "stream",
     "text": [
      "                               Open      High       Low     Close     Volume\n",
      "Date                                                                        \n",
      "2022-09-18 00:00:00+00:00  0.062210  0.062210  0.057238  0.057520  265405124\n",
      "2022-09-19 00:00:00+00:00  0.057519  0.058744  0.056180  0.058612  301268389\n",
      "2022-09-20 00:00:00+00:00  0.058612  0.060262  0.057738  0.058417  294929293\n",
      "2022-09-21 00:00:00+00:00  0.058423  0.060478  0.056378  0.057404  406017754\n",
      "2022-09-22 00:00:00+00:00  0.057386  0.059838  0.056945  0.059599  241738855\n"
     ]
    }
   ],
   "source": [
    "import pandas as pd\n",
    "\n",
    "# Load the data\n",
    "dogecoin = pd.read_parquet('../databases/dogecoin_pure.parquet')\n",
    "\n",
    "# Preview the data\n",
    "print(dogecoin.head())"
   ]
  },
  {
   "cell_type": "code",
   "execution_count": 12,
   "metadata": {},
   "outputs": [
    {
     "data": {
      "text/html": [
       "<div>\n",
       "<style scoped>\n",
       "    .dataframe tbody tr th:only-of-type {\n",
       "        vertical-align: middle;\n",
       "    }\n",
       "\n",
       "    .dataframe tbody tr th {\n",
       "        vertical-align: top;\n",
       "    }\n",
       "\n",
       "    .dataframe thead th {\n",
       "        text-align: right;\n",
       "    }\n",
       "</style>\n",
       "<table border=\"1\" class=\"dataframe\">\n",
       "  <thead>\n",
       "    <tr style=\"text-align: right;\">\n",
       "      <th></th>\n",
       "      <th>ds</th>\n",
       "      <th>y</th>\n",
       "      <th>Open</th>\n",
       "      <th>High</th>\n",
       "      <th>Low</th>\n",
       "      <th>Volume</th>\n",
       "    </tr>\n",
       "  </thead>\n",
       "  <tbody>\n",
       "    <tr>\n",
       "      <th>0</th>\n",
       "      <td>2022-09-18</td>\n",
       "      <td>0.057520</td>\n",
       "      <td>0.062210</td>\n",
       "      <td>0.062210</td>\n",
       "      <td>0.057238</td>\n",
       "      <td>265405124</td>\n",
       "    </tr>\n",
       "    <tr>\n",
       "      <th>1</th>\n",
       "      <td>2022-09-19</td>\n",
       "      <td>0.058612</td>\n",
       "      <td>0.057519</td>\n",
       "      <td>0.058744</td>\n",
       "      <td>0.056180</td>\n",
       "      <td>301268389</td>\n",
       "    </tr>\n",
       "    <tr>\n",
       "      <th>2</th>\n",
       "      <td>2022-09-20</td>\n",
       "      <td>0.058417</td>\n",
       "      <td>0.058612</td>\n",
       "      <td>0.060262</td>\n",
       "      <td>0.057738</td>\n",
       "      <td>294929293</td>\n",
       "    </tr>\n",
       "    <tr>\n",
       "      <th>3</th>\n",
       "      <td>2022-09-21</td>\n",
       "      <td>0.057404</td>\n",
       "      <td>0.058423</td>\n",
       "      <td>0.060478</td>\n",
       "      <td>0.056378</td>\n",
       "      <td>406017754</td>\n",
       "    </tr>\n",
       "    <tr>\n",
       "      <th>4</th>\n",
       "      <td>2022-09-22</td>\n",
       "      <td>0.059599</td>\n",
       "      <td>0.057386</td>\n",
       "      <td>0.059838</td>\n",
       "      <td>0.056945</td>\n",
       "      <td>241738855</td>\n",
       "    </tr>\n",
       "    <tr>\n",
       "      <th>...</th>\n",
       "      <td>...</td>\n",
       "      <td>...</td>\n",
       "      <td>...</td>\n",
       "      <td>...</td>\n",
       "      <td>...</td>\n",
       "      <td>...</td>\n",
       "    </tr>\n",
       "    <tr>\n",
       "      <th>727</th>\n",
       "      <td>2024-09-14</td>\n",
       "      <td>0.105467</td>\n",
       "      <td>0.107113</td>\n",
       "      <td>0.107558</td>\n",
       "      <td>0.104643</td>\n",
       "      <td>426157956</td>\n",
       "    </tr>\n",
       "    <tr>\n",
       "      <th>728</th>\n",
       "      <td>2024-09-15</td>\n",
       "      <td>0.102933</td>\n",
       "      <td>0.105467</td>\n",
       "      <td>0.106359</td>\n",
       "      <td>0.102577</td>\n",
       "      <td>428890116</td>\n",
       "    </tr>\n",
       "    <tr>\n",
       "      <th>729</th>\n",
       "      <td>2024-09-16</td>\n",
       "      <td>0.099693</td>\n",
       "      <td>0.102938</td>\n",
       "      <td>0.103132</td>\n",
       "      <td>0.098458</td>\n",
       "      <td>528755469</td>\n",
       "    </tr>\n",
       "    <tr>\n",
       "      <th>730</th>\n",
       "      <td>2024-09-17</td>\n",
       "      <td>0.101137</td>\n",
       "      <td>0.099696</td>\n",
       "      <td>0.102467</td>\n",
       "      <td>0.098844</td>\n",
       "      <td>480290242</td>\n",
       "    </tr>\n",
       "    <tr>\n",
       "      <th>731</th>\n",
       "      <td>2024-09-18</td>\n",
       "      <td>0.101430</td>\n",
       "      <td>0.101134</td>\n",
       "      <td>0.101620</td>\n",
       "      <td>0.099659</td>\n",
       "      <td>420092736</td>\n",
       "    </tr>\n",
       "  </tbody>\n",
       "</table>\n",
       "<p>732 rows × 6 columns</p>\n",
       "</div>"
      ],
      "text/plain": [
       "            ds         y      Open      High       Low     Volume\n",
       "0   2022-09-18  0.057520  0.062210  0.062210  0.057238  265405124\n",
       "1   2022-09-19  0.058612  0.057519  0.058744  0.056180  301268389\n",
       "2   2022-09-20  0.058417  0.058612  0.060262  0.057738  294929293\n",
       "3   2022-09-21  0.057404  0.058423  0.060478  0.056378  406017754\n",
       "4   2022-09-22  0.059599  0.057386  0.059838  0.056945  241738855\n",
       "..         ...       ...       ...       ...       ...        ...\n",
       "727 2024-09-14  0.105467  0.107113  0.107558  0.104643  426157956\n",
       "728 2024-09-15  0.102933  0.105467  0.106359  0.102577  428890116\n",
       "729 2024-09-16  0.099693  0.102938  0.103132  0.098458  528755469\n",
       "730 2024-09-17  0.101137  0.099696  0.102467  0.098844  480290242\n",
       "731 2024-09-18  0.101430  0.101134  0.101620  0.099659  420092736\n",
       "\n",
       "[732 rows x 6 columns]"
      ]
     },
     "execution_count": 12,
     "metadata": {},
     "output_type": "execute_result"
    }
   ],
   "source": [
    "dogecoin_reset = dogecoin.reset_index()\n",
    "\n",
    "# Rename columns for Prophet\n",
    "dogecoin_prophet = dogecoin_reset[['Date', 'Close', 'Open', 'High', 'Low', 'Volume']].rename(columns={'Date': 'ds', 'Close': 'y'})\n",
    "\n",
    "# Remove timezone if present in 'ds'\n",
    "dogecoin_prophet['ds'] = pd.to_datetime(dogecoin_prophet['ds']).dt.tz_localize(None)\n",
    "\n",
    "dogecoin_prophet"
   ]
  },
  {
   "cell_type": "code",
   "execution_count": 16,
   "metadata": {},
   "outputs": [
    {
     "name": "stderr",
     "output_type": "stream",
     "text": [
      "11:32:09 - cmdstanpy - INFO - Chain [1] start processing\n",
      "11:32:09 - cmdstanpy - INFO - Chain [1] done processing\n",
      "11:32:09 - cmdstanpy - INFO - Chain [1] start processing\n",
      "11:32:09 - cmdstanpy - INFO - Chain [1] done processing\n"
     ]
    },
    {
     "name": "stdout",
     "output_type": "stream",
     "text": [
      "Fold results:\n",
      "MAE: 0.0010110303765614886\n",
      "MSE: 1.7676830675270952e-06\n",
      "RMSE: 0.0013295424278777625\n",
      "R²: 0.9649875187527454\n",
      "------------------------------\n",
      "Fold results:\n",
      "MAE: 0.0007257211286717256\n",
      "MSE: 7.62984824783246e-07\n",
      "RMSE: 0.0008734900255774224\n",
      "R²: 0.9728109801407517\n",
      "------------------------------\n"
     ]
    },
    {
     "name": "stderr",
     "output_type": "stream",
     "text": [
      "11:32:09 - cmdstanpy - INFO - Chain [1] start processing\n",
      "11:32:09 - cmdstanpy - INFO - Chain [1] done processing\n",
      "11:32:09 - cmdstanpy - INFO - Chain [1] start processing\n",
      "11:32:09 - cmdstanpy - INFO - Chain [1] done processing\n"
     ]
    },
    {
     "name": "stdout",
     "output_type": "stream",
     "text": [
      "Fold results:\n",
      "MAE: 0.001091774818374478\n",
      "MSE: 2.2144388026789273e-06\n",
      "RMSE: 0.001488099056742839\n",
      "R²: 0.9863737123539337\n",
      "------------------------------\n"
     ]
    },
    {
     "name": "stderr",
     "output_type": "stream",
     "text": [
      "11:32:09 - cmdstanpy - INFO - Chain [1] start processing\n",
      "11:32:09 - cmdstanpy - INFO - Chain [1] done processing\n"
     ]
    },
    {
     "name": "stdout",
     "output_type": "stream",
     "text": [
      "Fold results:\n",
      "MAE: 0.002801690579368385\n",
      "MSE: 1.8317817439936142e-05\n",
      "RMSE: 0.0042799319433766865\n",
      "R²: 0.9893629628381245\n",
      "------------------------------\n",
      "Fold results:\n",
      "MAE: 0.002046117293306413\n",
      "MSE: 6.407865501736435e-06\n",
      "RMSE: 0.0025313762070732267\n",
      "R²: 0.9867368081763539\n",
      "------------------------------\n",
      "Average MAE across folds: 0.0015352668392564983\n",
      "Average MSE across folds: 5.894157927332369e-06\n",
      "Average RMSE across folds: 0.0021004879321295873\n",
      "Average R² across folds: 0.9800543964523818\n"
     ]
    }
   ],
   "source": [
    "from prophet import Prophet\n",
    "from sklearn.metrics import mean_absolute_error, mean_squared_error, r2_score\n",
    "import numpy as np\n",
    "from sklearn.model_selection import TimeSeriesSplit\n",
    "\n",
    "# Initialize TimeSeriesSplit\n",
    "tscv = TimeSeriesSplit(n_splits=5)\n",
    "\n",
    "# Lists to store the metrics for each fold\n",
    "mae_list = []\n",
    "mse_list = []\n",
    "rmse_list = []\n",
    "r2_list = []\n",
    "\n",
    "# Iterate over the train-test splits\n",
    "for train_index, test_index in tscv.split(dogecoin_prophet):\n",
    "    train_df, test_df = dogecoin_prophet.iloc[train_index], dogecoin_prophet.iloc[test_index]\n",
    "    \n",
    "    # Initialize a new Prophet model for each fold\n",
    "    model = Prophet()\n",
    "    \n",
    "    # Add the regressors\n",
    "    model.add_regressor('Open')\n",
    "    model.add_regressor('High')\n",
    "    model.add_regressor('Low')\n",
    "    model.add_regressor('Volume')\n",
    "    \n",
    "    # Train the model on the train set\n",
    "    model.fit(train_df)\n",
    "    \n",
    "    # Predict on the test set\n",
    "    forecast_test = model.predict(test_df[['ds', 'Open', 'High', 'Low', 'Volume']])\n",
    "    \n",
    "    # Calculate the performance metrics\n",
    "    mae_test = mean_absolute_error(test_df['y'], forecast_test['yhat'])\n",
    "    mse_test = mean_squared_error(test_df['y'], forecast_test['yhat'])\n",
    "    rmse_test = np.sqrt(mse_test)\n",
    "    r2_test = r2_score(test_df['y'], forecast_test['yhat'])\n",
    "    \n",
    "    # Append the metrics to the lists\n",
    "    mae_list.append(mae_test)\n",
    "    mse_list.append(mse_test)\n",
    "    rmse_list.append(rmse_test)\n",
    "    r2_list.append(r2_test)\n",
    "    \n",
    "    # Print the metrics for the current fold\n",
    "    print(f\"Fold results:\")\n",
    "    print(f\"MAE: {mae_test}\")\n",
    "    print(f\"MSE: {mse_test}\")\n",
    "    print(f\"RMSE: {rmse_test}\")\n",
    "    print(f\"R²: {r2_test}\")\n",
    "    print(\"-\" * 30)\n",
    "\n",
    "# After the loop, you can print the average metrics across all folds\n",
    "print(f\"Average MAE across folds: {np.mean(mae_list)}\")\n",
    "print(f\"Average MSE across folds: {np.mean(mse_list)}\")\n",
    "print(f\"Average RMSE across folds: {np.mean(rmse_list)}\")\n",
    "print(f\"Average R² across folds: {np.mean(r2_list)}\")\n"
   ]
  },
  {
   "cell_type": "code",
   "execution_count": 17,
   "metadata": {},
   "outputs": [
    {
     "data": {
      "text/plain": [
       "['../models/prophet_model_multi_cross.joblib']"
      ]
     },
     "execution_count": 17,
     "metadata": {},
     "output_type": "execute_result"
    }
   ],
   "source": [
    "import joblib\n",
    "\n",
    "# Save the multivariate Prophet model\n",
    "joblib.dump(model, '../models/prophet_model_multi_cross.joblib')"
   ]
  },
  {
   "cell_type": "code",
   "execution_count": null,
   "metadata": {},
   "outputs": [],
   "source": []
  }
 ],
 "metadata": {
  "kernelspec": {
   "display_name": "venv",
   "language": "python",
   "name": "python3"
  },
  "language_info": {
   "codemirror_mode": {
    "name": "ipython",
    "version": 3
   },
   "file_extension": ".py",
   "mimetype": "text/x-python",
   "name": "python",
   "nbconvert_exporter": "python",
   "pygments_lexer": "ipython3",
   "version": "3.12.1"
  }
 },
 "nbformat": 4,
 "nbformat_minor": 2
}
